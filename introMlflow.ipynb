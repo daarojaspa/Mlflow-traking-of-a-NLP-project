{
 "cells": [
  {
   "cell_type": "markdown",
   "id": "09b6e950",
   "metadata": {},
   "source": [
    "in this notebook we will explore the diferent  options mlflow   have to do traking of models"
   ]
  },
  {
   "cell_type": "code",
   "execution_count": 1,
   "id": "9939a2ca",
   "metadata": {},
   "outputs": [
    {
     "name": "stdout",
     "output_type": "stream",
     "text": [
      "tracking uri: file:///home/dan/PLATZI/data/MLops/localMlflow/mlruns\n"
     ]
    }
   ],
   "source": [
    "import mlflow\n",
    "from sklearn.linear_model import LogisticRegression\n",
    "from sklearn.datasets import load_iris\n",
    "from sklearn.metrics import accuracy_score\n",
    "import logging\n",
    "\n",
    "logging.basicConfig(level=logging.WARN)\n",
    "logger=logging.getLogger(__name__)\n",
    "print (f'tracking uri: {mlflow.get_tracking_uri()}')\n"
   ]
  },
  {
   "cell_type": "markdown",
   "id": "19d01d3a",
   "metadata": {},
   "source": [
    "what is gonna happen is that your machinne learnning code is gona connect to a server of mlflow.\n",
    "in this first attempt  the server will be running in your local host, use   the following commands in the  shell to set it up\n",
    "    -poetry run mlflow ui --port xxx\n",
    "    - "
   ]
  },
  {
   "cell_type": "code",
   "execution_count": 2,
   "id": "7d71f3b7",
   "metadata": {},
   "outputs": [
    {
     "name": "stderr",
     "output_type": "stream",
     "text": [
      "\u001b[31m2025/05/09 10:13:12 WARNING mlflow.models.model: Model logged without a signature and input example. Please set `input_example` parameter when logging the model to auto infer the model signature.\u001b[0m\n"
     ]
    },
    {
     "name": "stdout",
     "output_type": "stream",
     "text": [
      "default location file:///home/dan/PLATZI/data/MLops/localMlflow/mlruns/180289965211464282/069afdba0f374eb2aa7192e09dc2c02b/artifacts\n"
     ]
    }
   ],
   "source": [
    "import mlflow.metrics\n",
    "import mlflow.sklearn\n",
    "\n",
    "\n",
    "mlflow.set_experiment(\"iris_Experiment\")\n",
    "with mlflow.start_run(run_name='example1'):\n",
    "    X,y=load_iris(return_X_y=True)\n",
    "    params={'C':0.1,'random_state':37}\n",
    "    mlflow.log_params(params)\n",
    "    lr=LogisticRegression(**params).fit(X,y)\n",
    "    predictions=lr.predict(X)\n",
    "    mlflow.log_metrics({\"accuracy_score\": accuracy_score(y, predictions)})\n",
    "    mlflow.sklearn.log_model(lr,'model')\n",
    "    print (f'default location {mlflow.get_artifact_uri()}')"
   ]
  },
  {
   "cell_type": "markdown",
   "id": "11a3de87",
   "metadata": {},
   "source": [
    "as you can find out  the experiments log is been save in mlruns folder, this folder can be change  but apart from  having to run the next commands \n",
    "poetry run mlflow ui --backend-store-uri folder path --port 5000\n",
    "you also have to  keep deleting the mlruns folder \n",
    "first create a folder \"experiments\" name can be anything  then run the next code"
   ]
  },
  {
   "cell_type": "code",
   "execution_count": 3,
   "id": "58543295",
   "metadata": {},
   "outputs": [
    {
     "name": "stdout",
     "output_type": "stream",
     "text": [
      "tracking uri: /home/dan/PLATZI/data/MLops/localMlflow/experiments\n"
     ]
    },
    {
     "name": "stderr",
     "output_type": "stream",
     "text": [
      "\u001b[31m2025/05/09 10:13:29 WARNING mlflow.models.model: Model logged without a signature and input example. Please set `input_example` parameter when logging the model to auto infer the model signature.\u001b[0m\n"
     ]
    },
    {
     "name": "stdout",
     "output_type": "stream",
     "text": [
      "default location /home/dan/PLATZI/data/MLops/localMlflow/experiments/346046883669963490/8050df0751a149198f9784a2736d3e37/artifacts\n"
     ]
    }
   ],
   "source": [
    "mlflow.end_run()#to avoid collitions with other mlflow process\n",
    "mlflow.set_tracking_uri(\"/home/dan/PLATZI/data/MLops/localMlflow/experiments\")\n",
    "print (f'tracking uri: {mlflow.get_tracking_uri()}')\n",
    "mlflow.set_experiment(\"iris_Experiment\")\n",
    "with mlflow.start_run(run_name='example z'):\n",
    "    X,y=load_iris(return_X_y=True)\n",
    "    params={'C':0.1,'random_state':37}\n",
    "    mlflow.log_params(params)\n",
    "    lr=LogisticRegression(**params).fit(X,y)\n",
    "    predictions=lr.predict(X)\n",
    "    mlflow.log_metrics({\"accuracy_score\": accuracy_score(y, predictions)})\n",
    "    mlflow.sklearn.log_model(lr,'model')\n",
    "    print (f'default location {mlflow.get_artifact_uri()}')"
   ]
  },
  {
   "cell_type": "markdown",
   "id": "6ae35be4",
   "metadata": {},
   "source": [
    "now  the artifacts will be still storage on the uri  path specifyied above but  the entities will be storage on a data base to open  the ui  whith a sql data base in this case is necesary to run in the project folder the command\n",
    "\n",
    "poetry run mlflow ui --backend-store-uri sqlite:///backend.db\n"
   ]
  },
  {
   "cell_type": "code",
   "execution_count": 4,
   "id": "ae5bc8d8",
   "metadata": {},
   "outputs": [
    {
     "name": "stderr",
     "output_type": "stream",
     "text": [
      "\u001b[31m2025/05/09 10:13:58 WARNING mlflow.models.model: Model logged without a signature and input example. Please set `input_example` parameter when logging the model to auto infer the model signature.\u001b[0m\n"
     ]
    },
    {
     "name": "stdout",
     "output_type": "stream",
     "text": [
      "default artifact uri /home/dan/PLATZI/data/MLops/localMlflow/mlruns/1/810d084a05d54b15bca1cc1e2be08851/artifacts\n"
     ]
    }
   ],
   "source": [
    "import mlflow.sklearn\n",
    "\n",
    "\n",
    "mlflow.set_tracking_uri(\"sqlite:///backend.db\")\n",
    "mlflow.set_experiment(\"experimento 3\")\n",
    "with mlflow.start_run(run_name=\"example what?\"):\n",
    "    X,y=load_iris(return_X_y=True)\n",
    "    p={\"C\":0.1,\"random_state\":37}\n",
    "    mlflow.log_params(p)\n",
    "\n",
    "    lr=LogisticRegression(**params).fit(X,y)\n",
    "    prediction=lr.predict(X)\n",
    "    mlflow.log_metric(\"accuracy\",accuracy_score(y,prediction))\n",
    "    mlflow.sklearn.log_model(lr,artifact_path=\"models\")\n",
    "    print(f\"default artifact uri {mlflow.get_artifact_uri()}\")\n",
    "\n",
    "\n"
   ]
  },
  {
   "cell_type": "code",
   "execution_count": null,
   "id": "eec3e865",
   "metadata": {},
   "outputs": [],
   "source": []
  }
 ],
 "metadata": {
  "kernelspec": {
   "display_name": "localmlflow-pI7tAgSy-py3.9",
   "language": "python",
   "name": "python3"
  },
  "language_info": {
   "codemirror_mode": {
    "name": "ipython",
    "version": 3
   },
   "file_extension": ".py",
   "mimetype": "text/x-python",
   "name": "python",
   "nbconvert_exporter": "python",
   "pygments_lexer": "ipython3",
   "version": "3.9.17"
  }
 },
 "nbformat": 4,
 "nbformat_minor": 5
}
